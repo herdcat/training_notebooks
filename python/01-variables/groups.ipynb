{
 "cells": [
  {
   "cell_type": "markdown",
   "source": [
    "<h1>Variable groups and sequences</h1>"
   ],
   "metadata": {}
  },
  {
   "cell_type": "markdown",
   "source": [
    "In this section, we will explore how to group different things together <br>\n",
    "We will be creating different variable types as well as discussing ways to use them"
   ],
   "metadata": {}
  },
  {
   "cell_type": "markdown",
   "source": [
    "LISTS:"
   ],
   "metadata": {}
  },
  {
   "cell_type": "code",
   "execution_count": 13,
   "source": [
    "##The most basic grouping of variables in python is the string. \n",
    "##Lets create a string and print it. We can see the entire string\n",
    "my_str_a = \"abcdefg\"\n",
    "print(my_str_a)\n",
    "\n",
    "##Simple grouping in python is called a 'list'. Each \"thing\" in the list is called an 'element'\n",
    "##Each element carries an index id. We start counting from 0 instead of 1\n",
    "##Below we will print the 0th element in the list. e.g. var_name[index]\n",
    "print(my_str_a[0])\n",
    "\n",
    "##You can print a subsection of the array by using this format: var_name[start:end]\n",
    "##It is important to note that the end element will not be included in the final result.\n",
    "print(my_str_a[0:3])"
   ],
   "outputs": [
    {
     "output_type": "stream",
     "name": "stdout",
     "text": [
      "abcdefg\n",
      "a\n",
      "abc\n"
     ]
    }
   ],
   "metadata": {}
  },
  {
   "cell_type": "code",
   "execution_count": 14,
   "source": [
    "##The major benefit of lists in python is that you can add or remove elements as you wish. \n",
    "##Let's create a simple list below and make some changes, NOTE: These will make permanent changes to your variable\n",
    "my_list_a=['b', 'c', 'd', 'e', 'f']\n",
    "my_list_b=[1, 2, 3]\n",
    "print(my_list_a)\n",
    "\n",
    "##Now let's add something to the end of the array:\n",
    "my_list_a.append('g')\n",
    "print(my_list_a)\n",
    "\n",
    "##If you want to add an element in a specific place, you can use the following method.\n",
    "my_list_a.insert(0,'a')\n",
    "print(my_list_a)\n",
    "\n",
    "##You can create a new array from 2 existing ones\n",
    "my_list_c=my_list_a+my_list_b\n",
    "print(my_list_c)\n",
    "\n",
    "## Finally, if you like, you can print the array out as a string:\n",
    "print(\"%s\".join(my_list_c))\n"
   ],
   "outputs": [
    {
     "output_type": "stream",
     "name": "stdout",
     "text": [
      "['b', 'c', 'd', 'e', 'f']\n",
      "['b', 'c', 'd', 'e', 'f', 'g']\n",
      "['a', 'b', 'c', 'd', 'e', 'f', 'g']\n",
      "['a', 'b', 'c', 'd', 'e', 'f', 'g', 1, 2, 3]\n"
     ]
    },
    {
     "output_type": "error",
     "ename": "TypeError",
     "evalue": "sequence item 7: expected str instance, int found",
     "traceback": [
      "\u001b[0;31m---------------------------------------------------------------------------\u001b[0m",
      "\u001b[0;31mTypeError\u001b[0m                                 Traceback (most recent call last)",
      "\u001b[0;32m<ipython-input-14-813099747dfb>\u001b[0m in \u001b[0;36m<module>\u001b[0;34m\u001b[0m\n\u001b[1;32m     18\u001b[0m \u001b[0;34m\u001b[0m\u001b[0m\n\u001b[1;32m     19\u001b[0m \u001b[0;31m## Finally, if you like, you can print the array out as a string:\u001b[0m\u001b[0;34m\u001b[0m\u001b[0;34m\u001b[0m\u001b[0;34m\u001b[0m\u001b[0m\n\u001b[0;32m---> 20\u001b[0;31m \u001b[0mprint\u001b[0m\u001b[0;34m(\u001b[0m\u001b[0;34m\"%s\"\u001b[0m\u001b[0;34m.\u001b[0m\u001b[0mjoin\u001b[0m\u001b[0;34m(\u001b[0m\u001b[0mmy_list_c\u001b[0m\u001b[0;34m)\u001b[0m\u001b[0;34m)\u001b[0m\u001b[0;34m\u001b[0m\u001b[0;34m\u001b[0m\u001b[0m\n\u001b[0m",
      "\u001b[0;31mTypeError\u001b[0m: sequence item 7: expected str instance, int found"
     ]
    }
   ],
   "metadata": {}
  }
 ],
 "metadata": {
  "orig_nbformat": 4,
  "language_info": {
   "name": "python",
   "version": "3.9.5",
   "mimetype": "text/x-python",
   "codemirror_mode": {
    "name": "ipython",
    "version": 3
   },
   "pygments_lexer": "ipython3",
   "nbconvert_exporter": "python",
   "file_extension": ".py"
  },
  "kernelspec": {
   "name": "python3",
   "display_name": "Python 3.9.5 64-bit"
  },
  "interpreter": {
   "hash": "aee8b7b246df8f9039afb4144a1f6fd8d2ca17a180786b69acc140d282b71a49"
  }
 },
 "nbformat": 4,
 "nbformat_minor": 2
}