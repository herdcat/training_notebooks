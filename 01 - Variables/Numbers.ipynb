{
 "cells": [
  {
   "cell_type": "code",
   "execution_count": null,
   "source": [
    "##In this section, we will talk about how to save values and give them a name\n",
    "##We will be creating different variable types as well as discussing ways to use them"
   ],
   "outputs": [],
   "metadata": {}
  },
  {
   "cell_type": "code",
   "execution_count": 36,
   "source": [
    "##Simple boolean variable. Values are either (True, 1) or (False,0)\n",
    "my_bool_a = True\n",
    "my_bool_b = bool(0)\n",
    "my_bool_c = bool(24) # Any value above 0 is treated as True\n",
    "my_bool_d = bool(-1) # Any value below 0 is treated as True\n",
    "print(my_bool_a, my_bool_b, my_bool_c, my_bool_d)"
   ],
   "outputs": [
    {
     "output_type": "stream",
     "name": "stdout",
     "text": [
      "True False True True\n"
     ]
    }
   ],
   "metadata": {}
  },
  {
   "cell_type": "code",
   "execution_count": null,
   "source": [
    "##Use this box as a test area for what you learned above! \n",
    "##Just write your own code and hit the play button"
   ],
   "outputs": [],
   "metadata": {}
  },
  {
   "cell_type": "code",
   "execution_count": null,
   "source": [
    "##Simple integer number variable. Values are whole numbers\n",
    "##We will create once with default value of 0, and another time directly with 2.\n",
    "my_int_a = int()\n",
    "my_int_b = 2\n",
    "\n",
    "print(my_int_a, my_int_b)"
   ],
   "outputs": [],
   "metadata": {}
  },
  {
   "cell_type": "code",
   "execution_count": null,
   "source": [
    "##Use this box as a test area for what you learned above! \n",
    "##Just write your own code and hit the play button"
   ],
   "outputs": [],
   "metadata": {}
  },
  {
   "cell_type": "code",
   "execution_count": null,
   "source": [
    "##Floating point number. Values are decimal point numbers with many places\n",
    "my_float_a = 6.3 ## Set directly to decimal point value. Python will use float\n",
    "my_float_b = float(3) ## if you want to ensure using a float \n",
    "print(my_float_a, my_float_b)"
   ],
   "outputs": [],
   "metadata": {}
  },
  {
   "cell_type": "code",
   "execution_count": null,
   "source": [
    "##Use this box as a test area for what you learned above! \n",
    "##Just write your own code and hit the play button"
   ],
   "outputs": [],
   "metadata": {}
  },
  {
   "cell_type": "code",
   "execution_count": null,
   "source": [
    "##If you prefer to use binary, you can do that with a simple prefix 0b\n",
    "my_bin_a = 0b11 # The binary for decimal version of 3\n",
    "my_bin_b = 0b01000001 # This decimal value 65, but this can also correspond to number for 'A' in char types\n",
    "print(\"{0} {1} {1:c}\".format(my_bin_a, my_bin_b))\n"
   ],
   "outputs": [],
   "metadata": {}
  },
  {
   "cell_type": "code",
   "execution_count": null,
   "source": [
    "##Use this box as a test area for what you learned above! \n",
    "##Just write your own code and hit the play button"
   ],
   "outputs": [],
   "metadata": {}
  },
  {
   "cell_type": "code",
   "execution_count": null,
   "source": [
    "##If you prefer to use hex, you can do that with a simple prefix 0x\n",
    "my_hex_a = 0xf # The hex for decimal version of 16\n",
    "my_hex_b = 0x42 # This decimal value 66, but this can also correspond to number for 'B' in char types\n",
    "print(\"{0} {1} {1:c}\".format(my_hex_a, my_hex_b))"
   ],
   "outputs": [],
   "metadata": {}
  },
  {
   "cell_type": "code",
   "execution_count": null,
   "source": [
    "##Use this box as a test area for what you learned above! \n",
    "##Just write your own code and hit the play button"
   ],
   "outputs": [],
   "metadata": {}
  },
  {
   "cell_type": "code",
   "execution_count": null,
   "source": [
    "##If you prefer to use octal, you can do that with a simple prefix 0x\n",
    "my_oct_a = 0o11 # The oct for decimal version of 9\n",
    "my_oct_b = 0o0103 # This decimal value 67, but this can also correspond to number for 'C' in char types\n",
    "print(\"{0} {1} {1:c}\".format(my_oct_a, my_oct_b))"
   ],
   "outputs": [],
   "metadata": {}
  },
  {
   "cell_type": "code",
   "execution_count": null,
   "source": [
    "##Use this box as a test area for what you learned above! \n",
    "##Just write your own code and hit the play button"
   ],
   "outputs": [],
   "metadata": {}
  },
  {
   "cell_type": "code",
   "execution_count": 33,
   "source": [
    "##You can change between different variable types\n",
    "my_int_c = 68\n",
    "my_float_c = float(my_int_c)\n",
    "my_char_c = \"{0:c}\".format(my_int_c) # char types need to take in an integer to convert. float throws an error\n",
    "print(my_int_c, my_float_c, my_char_c)"
   ],
   "outputs": [
    {
     "output_type": "stream",
     "name": "stdout",
     "text": [
      "68 68.0 D\n"
     ]
    }
   ],
   "metadata": {}
  }
 ],
 "metadata": {
  "kernelspec": {
   "name": "python3",
   "display_name": "Python 3.9.5 64-bit"
  },
  "language_info": {
   "codemirror_mode": {
    "name": "ipython",
    "version": 3
   },
   "file_extension": ".py",
   "mimetype": "text/x-python",
   "name": "python",
   "nbconvert_exporter": "python",
   "pygments_lexer": "ipython3",
   "version": "3.9.5"
  },
  "interpreter": {
   "hash": "aee8b7b246df8f9039afb4144a1f6fd8d2ca17a180786b69acc140d282b71a49"
  }
 },
 "nbformat": 4,
 "nbformat_minor": 5
}