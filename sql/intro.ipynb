{
 "cells": [
  {
   "cell_type": "code",
   "execution_count": 1,
   "id": "798b8e41",
   "metadata": {},
   "outputs": [
    {
     "data": {
      "text/html": [
       "<html><body><table border=\"1\"><tr><th style=\"text-align:left;white-space:pre\">Database</th></tr><tr><td style=\"text-align:left;white-space:pre\">information_schema</td></tr><tr><td style=\"text-align:left;white-space:pre\">innodb</td></tr><tr><td style=\"text-align:left;white-space:pre\">main_db</td></tr><tr><td style=\"text-align:left;white-space:pre\">mysql</td></tr><tr><td style=\"text-align:left;white-space:pre\">performance_schema</td></tr><tr><td style=\"text-align:left;white-space:pre\">test_db_001</td></tr></table></body></html>"
      ]
     },
     "metadata": {},
     "output_type": "display_data"
    }
   ],
   "source": [
    "SHOW DATABASES;"
   ]
  },
  {
   "cell_type": "markdown",
   "id": "d05a3466",
   "metadata": {},
   "source": [
    "SQL commands can be complex, But the basic logic is still pretty much the same\n",
    "[VERB] [data-objects] [directional-keyword] [data-source]"
   ]
  },
  {
   "cell_type": "code",
   "execution_count": 2,
   "id": "a52b4035",
   "metadata": {},
   "outputs": [
    {
     "data": {
      "text/html": [
       "<html><body><table border=\"1\"><tr><th style=\"text-align:left;white-space:pre\">Tables_in_test_db_001</th></tr><tr><td style=\"text-align:left;white-space:pre\">test_tbl_001</td></tr><tr><td style=\"text-align:left;white-space:pre\">test_tbl_002</td></tr></table></body></html>"
      ]
     },
     "metadata": {},
     "output_type": "display_data"
    }
   ],
   "source": [
    "--First we will start by listing the tables in the database we are interested in\n",
    "SHOW TABLES IN test_db_001;"
   ]
  },
  {
   "cell_type": "code",
   "execution_count": 3,
   "id": "665048bb",
   "metadata": {},
   "outputs": [
    {
     "data": {
      "text/html": [
       "<html><body><table border=\"1\"><tr><th style=\"text-align:left;white-space:pre\">Field</th><th style=\"text-align:left;white-space:pre\">Type</th><th style=\"text-align:left;white-space:pre\">Null</th><th style=\"text-align:left;white-space:pre\">Key</th><th style=\"text-align:left;white-space:pre\">Default</th><th style=\"text-align:left;white-space:pre\">Extra</th></tr><tr><td style=\"text-align:left;white-space:pre\">id</td><td style=\"text-align:left;white-space:pre\">int(11)</td><td style=\"text-align:left;white-space:pre\">YES</td><td style=\"text-align:left;white-space:pre\"></td><td style=\"text-align:left;white-space:pre\">NULL</td><td style=\"text-align:left;white-space:pre\"></td></tr><tr><td style=\"text-align:left;white-space:pre\">d1</td><td style=\"text-align:left;white-space:pre\">char(128)</td><td style=\"text-align:left;white-space:pre\">YES</td><td style=\"text-align:left;white-space:pre\"></td><td style=\"text-align:left;white-space:pre\">NULL</td><td style=\"text-align:left;white-space:pre\"></td></tr><tr><td style=\"text-align:left;white-space:pre\">d2</td><td style=\"text-align:left;white-space:pre\">char(128)</td><td style=\"text-align:left;white-space:pre\">YES</td><td style=\"text-align:left;white-space:pre\"></td><td style=\"text-align:left;white-space:pre\">NULL</td><td style=\"text-align:left;white-space:pre\"></td></tr></table><table border=\"1\"><tr><th style=\"text-align:left;white-space:pre\">id</th><th style=\"text-align:left;white-space:pre\">d1</th><th style=\"text-align:left;white-space:pre\">d2</th></tr><tr><td style=\"text-align:left;white-space:pre\">0</td><td style=\"text-align:left;white-space:pre\">This is row 0</td><td style=\"text-align:left;white-space:pre\">We start with 0 in programming</td></tr></table></body></html>"
      ]
     },
     "metadata": {},
     "output_type": "display_data"
    }
   ],
   "source": [
    "--If you aren't sure what they table looks like, you can find out a couple of ways\n",
    "\n",
    "DESCRIBE test_db_001.test_tbl_001;\n",
    "SELECT * FROM test_db_001.test_tbl_001 limit 1;"
   ]
  },
  {
   "cell_type": "code",
   "execution_count": 4,
   "id": "b11a37a2",
   "metadata": {},
   "outputs": [
    {
     "data": {
      "text/html": [
       "<html><body><table border=\"1\"><tr><th style=\"text-align:left;white-space:pre\">id</th><th style=\"text-align:left;white-space:pre\">d1</th></tr><tr><td style=\"text-align:left;white-space:pre\">0</td><td style=\"text-align:left;white-space:pre\">This is row 0</td></tr><tr><td style=\"text-align:left;white-space:pre\">1</td><td style=\"text-align:left;white-space:pre\">This is row 1</td></tr><tr><td style=\"text-align:left;white-space:pre\">2</td><td style=\"text-align:left;white-space:pre\">This is row 2</td></tr><tr><td style=\"text-align:left;white-space:pre\">3</td><td style=\"text-align:left;white-space:pre\">This is row 3</td></tr></table><table border=\"1\"><tr><th style=\"text-align:left;white-space:pre\">id</th><th style=\"text-align:left;white-space:pre\">d2</th></tr><tr><td style=\"text-align:left;white-space:pre\">0</td><td style=\"text-align:left;white-space:pre\">We start with 0 in programming</td></tr><tr><td style=\"text-align:left;white-space:pre\">1</td><td style=\"text-align:left;white-space:pre\">Eventhough its actually the second</td></tr><tr><td style=\"text-align:left;white-space:pre\">2</td><td style=\"text-align:left;white-space:pre\">Eventhough its actually the third</td></tr><tr><td style=\"text-align:left;white-space:pre\">3</td><td style=\"text-align:left;white-space:pre\">Eventhough its actually the fourth</td></tr></table></body></html>"
      ]
     },
     "metadata": {},
     "output_type": "display_data"
    }
   ],
   "source": [
    "--Now that you have a feel for how the tables are organized, you can pick out specific columns.\n",
    "--**NOTE the more rows and columns you request the more effort it takes to retreive them\n",
    "\n",
    "SELECT id,d1 FROM test_db_001.test_tbl_001;\n",
    "SELECT id,d2 FROM test_db_001.test_tbl_001;"
   ]
  },
  {
   "cell_type": "code",
   "execution_count": 5,
   "id": "4cdc5a9b",
   "metadata": {},
   "outputs": [
    {
     "data": {
      "text/html": [
       "<html><body><table border=\"1\"><tr><th style=\"text-align:left;white-space:pre\">id</th><th style=\"text-align:left;white-space:pre\">d1</th><th style=\"text-align:left;white-space:pre\">d2</th></tr><tr><td style=\"text-align:left;white-space:pre\">1</td><td style=\"text-align:left;white-space:pre\">This is row 1</td><td style=\"text-align:left;white-space:pre\">Eventhough its actually the second</td></tr></table></body></html>"
      ]
     },
     "metadata": {},
     "output_type": "display_data"
    }
   ],
   "source": [
    "--Let's assume that we want to return a specific row. We can do that very easily.\n",
    "SELECT * FROM test_db_001.test_tbl_001 WHERE id=1;"
   ]
  },
  {
   "cell_type": "code",
   "execution_count": 6,
   "id": "657ec81b",
   "metadata": {},
   "outputs": [
    {
     "data": {
      "text/html": [
       "<html><body><table border=\"1\"><tr><th style=\"text-align:left;white-space:pre\">id</th><th style=\"text-align:left;white-space:pre\">d1</th><th style=\"text-align:left;white-space:pre\">d2</th></tr><tr><td style=\"text-align:left;white-space:pre\">2</td><td style=\"text-align:left;white-space:pre\">This is row 2</td><td style=\"text-align:left;white-space:pre\">Eventhough its actually the third</td></tr><tr><td style=\"text-align:left;white-space:pre\">3</td><td style=\"text-align:left;white-space:pre\">This is row 3</td><td style=\"text-align:left;white-space:pre\">Eventhough its actually the fourth</td></tr></table></body></html>"
      ]
     },
     "metadata": {},
     "output_type": "display_data"
    }
   ],
   "source": [
    "--You can filter for multiple rows based on logical conditions\n",
    "SELECT * FROM test_db_001.test_tbl_001 WHERE id>1;"
   ]
  },
  {
   "cell_type": "code",
   "execution_count": null,
   "id": "b8cb2aff",
   "metadata": {},
   "outputs": [],
   "source": []
  }
 ],
 "metadata": {
  "kernelspec": {
   "display_name": "MariaDB",
   "language": "SQL",
   "name": "mariadb_kernel"
  },
  "language_info": {
   "file_extension": ".sql",
   "mimetype": "text/plain",
   "name": "SQL"
  }
 },
 "nbformat": 4,
 "nbformat_minor": 5
}
